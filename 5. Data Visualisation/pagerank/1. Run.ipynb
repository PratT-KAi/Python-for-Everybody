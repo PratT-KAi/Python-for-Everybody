{
 "cells": [
  {
   "cell_type": "code",
   "execution_count": 13,
   "id": "cd0028da",
   "metadata": {},
   "outputs": [
    {
     "name": "stdout",
     "output_type": "stream",
     "text": [
      "Enter web url or enter: \n",
      "['http://www.dr-chuck.com', 'https://lti-tools.dr-chuck.com/tsugi/mod/python-data/data']\n",
      "How many pages:100\n",
      "No unretrieved HTML pages found\n"
     ]
    }
   ],
   "source": [
    "run spider.py"
   ]
  },
  {
   "cell_type": "code",
   "execution_count": 17,
   "id": "cef539e9",
   "metadata": {},
   "outputs": [
    {
     "name": "stdout",
     "output_type": "stream",
     "text": [
      "How many iterations:20\n",
      "1 2.2925006337715104e-10\n",
      "2 9.922686482001706e-11\n",
      "3 3.513486327274709e-11\n",
      "4 1.0348658438122778e-11\n",
      "5 2.6060582263604763e-12\n",
      "6 1.22651095629018e-12\n",
      "7 8.02754688119681e-13\n",
      "8 4.189505885067644e-13\n",
      "9 2.1286147447848893e-13\n",
      "10 8.819928914200708e-14\n",
      "11 3.197442310920451e-14\n",
      "12 9.357594064697749e-15\n",
      "13 1.919099799709199e-15\n",
      "14 1.3005469717037547e-15\n",
      "15 5.392511833893617e-16\n",
      "16 4.758098676964956e-16\n",
      "17 2.5376526277146434e-16\n",
      "18 2.854859206178974e-16\n",
      "19 6.344131569286608e-17\n",
      "20 0.0\n",
      "[(1, 1.050000000000001), (2, 2.1875000000000018), (3, 0.6125000000000006), (4, 1.050000000000001), (9, 0.5250000000000005)]\n"
     ]
    }
   ],
   "source": [
    "run sprank.py"
   ]
  },
  {
   "cell_type": "code",
   "execution_count": 18,
   "id": "72ed83f1",
   "metadata": {},
   "outputs": [
    {
     "name": "stdout",
     "output_type": "stream",
     "text": [
      "(4, 2.187499999578416, 2.1875000000000018, 2, 'http://www.dr-chuck.com/dr-chuck/resume/index.htm')\n",
      "(2, 0.5250000001686349, 0.5250000000000005, 12, 'http://www.dr-chuck.com/dr-chuck/resume')\n",
      "(2, 1.0500000000108456, 1.050000000000001, 10, 'http://www.dr-chuck.com/dr-chuck/resume/speaking.htm')\n",
      "(2, 1.0500000000108456, 1.050000000000001, 4, 'http://www.dr-chuck.com/dr-chuck/resume/bio.htm')\n",
      "(2, 1.0499999998738745, 1.050000000000001, 1, 'http://www.dr-chuck.com')\n",
      "(1, 1.0, 1.0, 17, 'http://www.dr-chuck.com/dr-chuck/resume/pictures')\n",
      "(1, 1.0, 1.0, 11, 'http://www.dr-chuck.com/dr-chuck/resume/pictures/index.htm')\n",
      "(1, 0.5250000001686349, 0.5250000000000005, 9, 'http://www.dr-chuck.com/dr-chuck/resume/leadership.htm')\n",
      "(1, 0.6125000001887544, 0.6125000000000006, 3, 'http://www.dr-chuck.com/sakai-book')\n",
      "9 rows.\n"
     ]
    }
   ],
   "source": [
    "run spdump.py"
   ]
  },
  {
   "cell_type": "code",
   "execution_count": 20,
   "id": "239f9f03",
   "metadata": {},
   "outputs": [
    {
     "name": "stdout",
     "output_type": "stream",
     "text": [
      "Creating JSON output on spider.js...\n",
      "How many nodes? 20\n",
      "Open force.html in a browser to view the visualization\n"
     ]
    }
   ],
   "source": [
    "run spjson.py"
   ]
  },
  {
   "cell_type": "code",
   "execution_count": null,
   "id": "19ae7963",
   "metadata": {},
   "outputs": [],
   "source": []
  }
 ],
 "metadata": {
  "kernelspec": {
   "display_name": "Python 3",
   "language": "python",
   "name": "python3"
  },
  "language_info": {
   "codemirror_mode": {
    "name": "ipython",
    "version": 3
   },
   "file_extension": ".py",
   "mimetype": "text/x-python",
   "name": "python",
   "nbconvert_exporter": "python",
   "pygments_lexer": "ipython3",
   "version": "3.8.8"
  }
 },
 "nbformat": 4,
 "nbformat_minor": 5
}
