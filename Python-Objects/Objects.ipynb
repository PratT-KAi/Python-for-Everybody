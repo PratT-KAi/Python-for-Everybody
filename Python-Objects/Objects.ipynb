{
 "cells": [
  {
   "cell_type": "code",
   "execution_count": 1,
   "id": "1dc68217",
   "metadata": {},
   "outputs": [],
   "source": [
    "class PartyAnimal:\n",
    "   x = 0\n",
    "   name = ''\n",
    "   def __init__(self, nam):\n",
    "     self.name = nam\n",
    "     print(self.name,'constructed')\n",
    "\n",
    "   def party(self) :\n",
    "     self.x = self.x + 1\n",
    "     print(self.name,'party count',self.x)"
   ]
  },
  {
   "cell_type": "code",
   "execution_count": 2,
   "id": "609dae1a",
   "metadata": {},
   "outputs": [
    {
     "name": "stdout",
     "output_type": "stream",
     "text": [
      "chuck\n",
      "chuck\n",
      "chuck\n"
     ]
    }
   ],
   "source": [
    "stuff = list()\n",
    "stuff.append('python')\n",
    "stuff.append('chuck')\n",
    "stuff.sort()\n",
    "print (stuff[0])\n",
    "print (stuff.__getitem__(0))\n",
    "print (list.__getitem__(stuff,0))"
   ]
  },
  {
   "cell_type": "code",
   "execution_count": 3,
   "id": "fe774a3e",
   "metadata": {},
   "outputs": [
    {
     "name": "stdout",
     "output_type": "stream",
     "text": [
      "So far 1\n",
      "So far 2\n",
      "So far 3\n",
      "So far 4\n"
     ]
    }
   ],
   "source": [
    "class PartyAnimal:\n",
    "   x = 0\n",
    "\n",
    "   def party(self) :\n",
    "     self.x = self.x + 1\n",
    "     print(\"So far\",self.x)\n",
    "\n",
    "an = PartyAnimal()\n",
    "an.party()\n",
    "an.party()\n",
    "an.party()\n",
    "PartyAnimal.party(an)"
   ]
  },
  {
   "cell_type": "code",
   "execution_count": 4,
   "id": "e24d32ee",
   "metadata": {},
   "outputs": [
    {
     "name": "stdout",
     "output_type": "stream",
     "text": [
      "Type <class '__main__.PartyAnimal'>\n",
      "Dir  ['__class__', '__delattr__', '__dict__', '__dir__', '__doc__', '__eq__', '__format__', '__ge__', '__getattribute__', '__gt__', '__hash__', '__init__', '__init_subclass__', '__le__', '__lt__', '__module__', '__ne__', '__new__', '__reduce__', '__reduce_ex__', '__repr__', '__setattr__', '__sizeof__', '__str__', '__subclasshook__', '__weakref__', 'party', 'x']\n",
      "Type <class 'int'>\n",
      "Type <class 'method'>\n"
     ]
    }
   ],
   "source": [
    "class PartyAnimal:\n",
    "   x = 0\n",
    "\n",
    "   def party(self) :\n",
    "     self.x = self.x + 1\n",
    "     print(\"So far\",self.x)\n",
    "\n",
    "an = PartyAnimal()\n",
    "print (\"Type\", type(an))\n",
    "print (\"Dir \", dir(an))\n",
    "print (\"Type\", type(an.x))\n",
    "print (\"Type\", type(an.party))"
   ]
  },
  {
   "cell_type": "code",
   "execution_count": 5,
   "id": "b8580472",
   "metadata": {},
   "outputs": [
    {
     "name": "stdout",
     "output_type": "stream",
     "text": [
      "I am constructed\n",
      "So far 1\n",
      "So far 2\n",
      "I am destructed 2\n",
      "an contains 42\n"
     ]
    }
   ],
   "source": [
    "class PartyAnimal:\n",
    "   x = 0\n",
    "\n",
    "   def __init__(self):\n",
    "     print('I am constructed')\n",
    "\n",
    "   def party(self) :\n",
    "     self.x = self.x + 1\n",
    "     print('So far',self.x)\n",
    "\n",
    "   def __del__(self):\n",
    "     print('I am destructed', self.x)\n",
    "\n",
    "an = PartyAnimal()\n",
    "an.party()\n",
    "an.party()\n",
    "an = 42\n",
    "print('an contains',an)"
   ]
  },
  {
   "cell_type": "code",
   "execution_count": 6,
   "id": "68627383",
   "metadata": {},
   "outputs": [
    {
     "name": "stdout",
     "output_type": "stream",
     "text": [
      "Sally constructed\n",
      "Jim constructed\n",
      "Sally party count 1\n",
      "Jim party count 1\n",
      "Sally party count 2\n"
     ]
    }
   ],
   "source": [
    "class PartyAnimal:\n",
    "   x = 0\n",
    "   name = ''\n",
    "   def __init__(self, nam):\n",
    "     self.name = nam\n",
    "     print(self.name,'constructed')\n",
    "\n",
    "   def party(self) :\n",
    "     self.x = self.x + 1\n",
    "     print(self.name,'party count',self.x)\n",
    "\n",
    "s = PartyAnimal('Sally')\n",
    "j = PartyAnimal('Jim')\n",
    "\n",
    "s.party()\n",
    "j.party()\n",
    "s.party()"
   ]
  },
  {
   "cell_type": "code",
   "execution_count": 8,
   "id": "5258d609",
   "metadata": {},
   "outputs": [
    {
     "name": "stdout",
     "output_type": "stream",
     "text": [
      "Sally constructed\n",
      "Sally party count 1\n",
      "Jim constructed\n",
      "Jim party count 1\n",
      "Jim party count 2\n",
      "Jim points 6\n",
      "['__class__', '__delattr__', '__dict__', '__dir__', '__doc__', '__eq__', '__format__', '__ge__', '__getattribute__', '__gt__', '__hash__', '__init__', '__init_subclass__', '__le__', '__lt__', '__module__', '__ne__', '__new__', '__reduce__', '__reduce_ex__', '__repr__', '__setattr__', '__sizeof__', '__str__', '__subclasshook__', '__weakref__', 'name', 'party', 'points', 'six', 'x']\n"
     ]
    }
   ],
   "source": [
    "from party import PartyAnimal\n",
    "\n",
    "class CricketFan(PartyAnimal):\n",
    "   points = 0\n",
    "   def six(self):\n",
    "      self.points = self.points + 6\n",
    "      self.party()\n",
    "      print(self.name,\"points\",self.points)\n",
    "\n",
    "s = PartyAnimal(\"Sally\")\n",
    "s.party()\n",
    "j = CricketFan(\"Jim\")\n",
    "j.party()\n",
    "j.six()\n",
    "print(dir(j))"
   ]
  },
  {
   "cell_type": "code",
   "execution_count": null,
   "id": "b141d9a4",
   "metadata": {},
   "outputs": [],
   "source": []
  }
 ],
 "metadata": {
  "kernelspec": {
   "display_name": "Python 3",
   "language": "python",
   "name": "python3"
  },
  "language_info": {
   "codemirror_mode": {
    "name": "ipython",
    "version": 3
   },
   "file_extension": ".py",
   "mimetype": "text/x-python",
   "name": "python",
   "nbconvert_exporter": "python",
   "pygments_lexer": "ipython3",
   "version": "3.8.8"
  }
 },
 "nbformat": 4,
 "nbformat_minor": 5
}
