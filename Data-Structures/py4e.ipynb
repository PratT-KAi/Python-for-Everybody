{
 "cells": [
  {
   "cell_type": "markdown",
   "id": "58a8a6f3",
   "metadata": {},
   "source": [
    "# Strings - More operations"
   ]
  },
  {
   "cell_type": "code",
   "execution_count": 2,
   "id": "d79de375",
   "metadata": {},
   "outputs": [
    {
     "name": "stdout",
     "output_type": "stream",
     "text": [
      "a\n",
      "a\n",
      "b\n"
     ]
    }
   ],
   "source": [
    "fruit = 'banana'\n",
    "letter = fruit[3]\n",
    "print(letter)\n",
    "letter = fruit[-1]\n",
    "print(letter)\n",
    "letter = fruit[0]\n",
    "print(letter)"
   ]
  },
  {
   "cell_type": "code",
   "execution_count": 3,
   "id": "e45ef726",
   "metadata": {},
   "outputs": [
    {
     "ename": "IndexError",
     "evalue": "string index out of range",
     "output_type": "error",
     "traceback": [
      "\u001b[1;31m---------------------------------------------------------------------------\u001b[0m",
      "\u001b[1;31mIndexError\u001b[0m                                Traceback (most recent call last)",
      "\u001b[1;32m<ipython-input-3-ede641a1930a>\u001b[0m in \u001b[0;36m<module>\u001b[1;34m\u001b[0m\n\u001b[1;32m----> 1\u001b[1;33m \u001b[0mletter\u001b[0m \u001b[1;33m=\u001b[0m \u001b[0mfruit\u001b[0m\u001b[1;33m[\u001b[0m\u001b[1;36m7\u001b[0m\u001b[1;33m]\u001b[0m\u001b[1;33m\u001b[0m\u001b[1;33m\u001b[0m\u001b[0m\n\u001b[0m\u001b[0;32m      2\u001b[0m \u001b[0mprint\u001b[0m\u001b[1;33m(\u001b[0m\u001b[0mletter\u001b[0m\u001b[1;33m)\u001b[0m\u001b[1;33m\u001b[0m\u001b[1;33m\u001b[0m\u001b[0m\n",
      "\u001b[1;31mIndexError\u001b[0m: string index out of range"
     ]
    }
   ],
   "source": [
    "letter = fruit[7]\n",
    "print(letter)"
   ]
  },
  {
   "cell_type": "code",
   "execution_count": 4,
   "id": "c2450a7f",
   "metadata": {},
   "outputs": [
    {
     "name": "stdout",
     "output_type": "stream",
     "text": [
      "6\n"
     ]
    }
   ],
   "source": [
    "print(len(fruit))"
   ]
  },
  {
   "cell_type": "code",
   "execution_count": 7,
   "id": "c13f860d",
   "metadata": {},
   "outputs": [
    {
     "name": "stdout",
     "output_type": "stream",
     "text": [
      "b\n",
      "a\n",
      "n\n",
      "a\n",
      "n\n",
      "a\n",
      "a occures 3 times\n"
     ]
    }
   ],
   "source": [
    "count_a = 0\n",
    "for i in fruit:\n",
    "    if i == 'a': count_a += 1\n",
    "    print(i)\n",
    "print(\"a occures\", count_a, \"times\")"
   ]
  },
  {
   "cell_type": "code",
   "execution_count": 9,
   "id": "ee5031d2",
   "metadata": {},
   "outputs": [
    {
     "name": "stdout",
     "output_type": "stream",
     "text": [
      "Monty\n",
      "thon\n",
      "Monty Python\n",
      "nohtyP ytnoM\n",
      "MnyPto\n"
     ]
    }
   ],
   "source": [
    "s = \"Monty Python\"\n",
    "print(s[:5])\n",
    "print(s[8:])\n",
    "print(s[:])\n",
    "print(s[::-1])\n",
    "print(s[::2])"
   ]
  },
  {
   "cell_type": "code",
   "execution_count": 10,
   "id": "cec40e7a",
   "metadata": {},
   "outputs": [
    {
     "name": "stdout",
     "output_type": "stream",
     "text": [
      "hello there\n"
     ]
    }
   ],
   "source": [
    "a = \"hello\"\n",
    "b = \"there\"\n",
    "print(a + ' ' +b)"
   ]
  },
  {
   "cell_type": "code",
   "execution_count": 11,
   "id": "f60e49dc",
   "metadata": {},
   "outputs": [
    {
     "data": {
      "text/plain": [
       "True"
      ]
     },
     "execution_count": 11,
     "metadata": {},
     "output_type": "execute_result"
    }
   ],
   "source": [
    "'nana' in fruit"
   ]
  },
  {
   "cell_type": "code",
   "execution_count": 12,
   "id": "bdc52f96",
   "metadata": {},
   "outputs": [
    {
     "name": "stdout",
     "output_type": "stream",
     "text": [
      "BANANA\n"
     ]
    }
   ],
   "source": [
    "print(fruit.upper())"
   ]
  },
  {
   "cell_type": "code",
   "execution_count": 13,
   "id": "e4fc89a8",
   "metadata": {},
   "outputs": [
    {
     "name": "stdout",
     "output_type": "stream",
     "text": [
      "Banana\n"
     ]
    }
   ],
   "source": [
    "print(fruit.capitalize())"
   ]
  },
  {
   "cell_type": "code",
   "execution_count": 17,
   "id": "57702600",
   "metadata": {},
   "outputs": [
    {
     "name": "stdout",
     "output_type": "stream",
     "text": [
      "2\n"
     ]
    }
   ],
   "source": [
    "type(fruit)\n",
    "dir(fruit)\n",
    "print(fruit.find('na'))"
   ]
  },
  {
   "cell_type": "code",
   "execution_count": 19,
   "id": "ae213e08",
   "metadata": {},
   "outputs": [
    {
     "name": "stdout",
     "output_type": "stream",
     "text": [
      "  Hello Ketan!    \n",
      "  Howdy Ketan!    \n",
      "  Hello Ketan!    \n",
      "Hello Ketan!    \n",
      "  Hello Ketan!\n",
      "Hello Ketan!\n"
     ]
    }
   ],
   "source": [
    "greet = \"  Hello Ketan!    \"\n",
    "print(greet)\n",
    "print(greet.replace('Hello','Howdy'))\n",
    "print(greet)\n",
    "print(greet.lstrip())\n",
    "print(greet.rstrip())\n",
    "print(greet.strip())"
   ]
  },
  {
   "cell_type": "code",
   "execution_count": 21,
   "id": "08253b20",
   "metadata": {},
   "outputs": [
    {
     "name": "stdout",
     "output_type": "stream",
     "text": [
      "konverge.ai\n"
     ]
    }
   ],
   "source": [
    "mail = \"pratik.tabhane@konverge.ai\"\n",
    "atpos = mail.find('@')\n",
    "host = mail[atpos+1:]\n",
    "print(host)"
   ]
  },
  {
   "cell_type": "code",
   "execution_count": 22,
   "id": "74b84d0f",
   "metadata": {},
   "outputs": [
    {
     "name": "stdout",
     "output_type": "stream",
     "text": [
      "<class 'str'>\n",
      "<class 'str'>\n"
     ]
    }
   ],
   "source": [
    "a = \"नमस्कार\"\n",
    "print(type(a))\n",
    "a = u'नमस्कार'\n",
    "print(type(a))"
   ]
  },
  {
   "cell_type": "code",
   "execution_count": 30,
   "id": "14bbb24e",
   "metadata": {},
   "outputs": [
    {
     "name": "stdout",
     "output_type": "stream",
     "text": [
      "<_io.TextIOWrapper name='README.md' mode='r' encoding='cp1252'>\n",
      "<_io.TextIOWrapper name='README.md' mode='r' encoding='cp1252'>\n",
      "# Bootcamp-DE\n",
      "Data Engineering Bootcamp\n",
      "\n",
      "1. Git\n",
      "2. Python for Everybody\n",
      "5\n"
     ]
    }
   ],
   "source": [
    "file = open(\"README.md\")\n",
    "print(file)\n",
    "file = open(\"README.md\",'r')\n",
    "print(file)\n",
    "c = 0\n",
    "for i in file:\n",
    "    print(i.rstrip())\n",
    "    c += 1\n",
    "print(c)"
   ]
  },
  {
   "cell_type": "markdown",
   "id": "6363dbd2",
   "metadata": {},
   "source": [
    "# Lists"
   ]
  },
  {
   "cell_type": "code",
   "execution_count": 2,
   "id": "2b6c544d",
   "metadata": {},
   "outputs": [
    {
     "data": {
      "text/plain": [
       "[5, 2, 1]"
      ]
     },
     "execution_count": 2,
     "metadata": {},
     "output_type": "execute_result"
    }
   ],
   "source": [
    "lis = [1, 2, 5]\n",
    "# dir(lis)\n",
    "lis.sort(reverse=True)\n",
    "lis"
   ]
  },
  {
   "cell_type": "code",
   "execution_count": 3,
   "id": "3111eb28",
   "metadata": {},
   "outputs": [
    {
     "data": {
      "text/plain": [
       "2.6666666666666665"
      ]
     },
     "execution_count": 3,
     "metadata": {},
     "output_type": "execute_result"
    }
   ],
   "source": [
    "sum = 0\n",
    "avg = 0\n",
    "for i in lis:\n",
    "    sum += i\n",
    "l = len(lis)\n",
    "avg = float(sum)/l\n",
    "avg"
   ]
  },
  {
   "cell_type": "code",
   "execution_count": 7,
   "id": "26b302fa",
   "metadata": {},
   "outputs": [
    {
     "name": "stdout",
     "output_type": "stream",
     "text": [
      "[5, 2, 1, 20, 1, 7]\n",
      "[5, 2, 1, 20, 1]\n",
      "[5, 2, 12, 1, 20, 1]\n"
     ]
    }
   ],
   "source": [
    "lis.append(7)\n",
    "print(lis)\n",
    "lis .pop()\n",
    "print(lis)\n",
    "lis.insert(2,12)\n",
    "print(lis)"
   ]
  },
  {
   "cell_type": "code",
   "execution_count": 8,
   "id": "c7253a67",
   "metadata": {},
   "outputs": [
    {
     "name": "stdout",
     "output_type": "stream",
     "text": [
      "['im', 'enjoying', 'this', 'bootcamp']\n"
     ]
    }
   ],
   "source": [
    "st = \"im enjoying this bootcamp\"\n",
    "fun = st.split()\n",
    "print(fun)"
   ]
  },
  {
   "cell_type": "code",
   "execution_count": 10,
   "id": "9ec0683d",
   "metadata": {},
   "outputs": [
    {
     "data": {
      "text/plain": [
       "['from', 'now', 'on', 'go']"
      ]
     },
     "execution_count": 10,
     "metadata": {},
     "output_type": "execute_result"
    }
   ],
   "source": [
    "sen = \"from:now:on:go\"\n",
    "l = sen.split(':')\n",
    "l"
   ]
  },
  {
   "cell_type": "code",
   "execution_count": 13,
   "id": "637636c4",
   "metadata": {},
   "outputs": [
    {
     "name": "stdout",
     "output_type": "stream",
     "text": [
      "konverge.ai\n"
     ]
    }
   ],
   "source": [
    "mail = \"pratik.tabhane@konverge.ai\"\n",
    "l = mail.split('@')\n",
    "l[1]\n"
   ]
  },
  {
   "cell_type": "markdown",
   "id": "4146ac00",
   "metadata": {},
   "source": [
    "# Dictionaries"
   ]
  },
  {
   "cell_type": "code",
   "execution_count": 15,
   "id": "68363480",
   "metadata": {},
   "outputs": [
    {
     "data": {
      "text/plain": [
       "{'age': 21, 'course': 101}"
      ]
     },
     "execution_count": 15,
     "metadata": {},
     "output_type": "execute_result"
    }
   ],
   "source": [
    "di = {}\n",
    "di['age'] = 21\n",
    "di['course'] = 101\n",
    "di"
   ]
  },
  {
   "cell_type": "code",
   "execution_count": 21,
   "id": "8972a1d9",
   "metadata": {},
   "outputs": [
    {
     "data": {
      "text/plain": [
       "{'john': 2, 'gwen': 1, 'sofi': 1, 'monty': 1}"
      ]
     },
     "execution_count": 21,
     "metadata": {},
     "output_type": "execute_result"
    }
   ],
   "source": [
    "names = ['john', 'gwen', \"sofi\", 'monty', 'john']\n",
    "freq = {}\n",
    "for i in names:\n",
    "    freq[i] = freq.get(i,0) + 1\n",
    "#     if i in freq: freq[i] +=1    \n",
    "#     else: freq[i] = 1\n",
    "freq"
   ]
  },
  {
   "cell_type": "code",
   "execution_count": 22,
   "id": "c71bbf0b",
   "metadata": {},
   "outputs": [
    {
     "name": "stdout",
     "output_type": "stream",
     "text": [
      "john 2\n",
      "gwen 1\n",
      "sofi 1\n",
      "monty 1\n"
     ]
    }
   ],
   "source": [
    "freq.get('pratik',0)\n",
    "for i in freq:\n",
    "    print(i,freq[i])"
   ]
  },
  {
   "cell_type": "code",
   "execution_count": 24,
   "id": "18c1bdd3",
   "metadata": {},
   "outputs": [
    {
     "name": "stdout",
     "output_type": "stream",
     "text": [
      "['john', 'gwen', 'sofi', 'monty']\n",
      "dict_keys(['john', 'gwen', 'sofi', 'monty'])\n",
      "dict_values([2, 1, 1, 1])\n",
      "dict_items([('john', 2), ('gwen', 1), ('sofi', 1), ('monty', 1)])\n"
     ]
    }
   ],
   "source": [
    "print(list(freq))\n",
    "print(freq.keys())\n",
    "print(freq.values())\n",
    "print(freq.items())"
   ]
  },
  {
   "cell_type": "code",
   "execution_count": 25,
   "id": "aca6260d",
   "metadata": {},
   "outputs": [
    {
     "name": "stdout",
     "output_type": "stream",
     "text": [
      "john 2\n",
      "gwen 1\n",
      "sofi 1\n",
      "monty 1\n"
     ]
    }
   ],
   "source": [
    "for i,j in freq.items():\n",
    "    print(i,j)"
   ]
  },
  {
   "cell_type": "markdown",
   "id": "6a31f92b",
   "metadata": {},
   "source": [
    "# Tuples"
   ]
  },
  {
   "cell_type": "markdown",
   "id": "51c6cc48",
   "metadata": {},
   "source": [
    "## Exercise 09"
   ]
  },
  {
   "cell_type": "code",
   "execution_count": 11,
   "id": "83c83e76",
   "metadata": {},
   "outputs": [
    {
     "name": "stdout",
     "output_type": "stream",
     "text": [
      "Enter File: intro.txt\n",
      "Done 226 the\n"
     ]
    }
   ],
   "source": [
    "fname = input(\"Enter File: \")\n",
    "if len(fname) < 1 : fname = 'clown.txt'\n",
    "hand = open(fname)\n",
    "\n",
    "di = {}\n",
    "for lin in hand:\n",
    "    lin = lin.rstrip()\n",
    "    wds = lin.split()\n",
    "    for w in wds:\n",
    "        di[w] = di.get(w,0) + 1\n",
    "    \n",
    "# print(di)\n",
    "\n",
    "max = -1\n",
    "word = None\n",
    "for k,v in di.items():\n",
    "    if v > max:\n",
    "        max = v   \n",
    "        word = k\n",
    "        \n",
    "print(\"Done\", max, word)"
   ]
  },
  {
   "cell_type": "code",
   "execution_count": 12,
   "id": "defcadb7",
   "metadata": {},
   "outputs": [
    {
     "name": "stdout",
     "output_type": "stream",
     "text": [
      "None 22 hola\n"
     ]
    }
   ],
   "source": [
    "(a ,b, c) = (None, 22, \"hola\")\n",
    "print(a, b, c)"
   ]
  },
  {
   "cell_type": "code",
   "execution_count": 25,
   "id": "8783f8f4",
   "metadata": {},
   "outputs": [
    {
     "data": {
      "text/plain": [
       "True"
      ]
     },
     "execution_count": 25,
     "metadata": {},
     "output_type": "execute_result"
    }
   ],
   "source": [
    "(0, 1, 2) < (5, 1, 2)\n",
    "(\"jones\", \"sally\") < (\"jones\", \"sam\")"
   ]
  },
  {
   "cell_type": "code",
   "execution_count": 28,
   "id": "02d33185",
   "metadata": {},
   "outputs": [
    {
     "name": "stdout",
     "output_type": "stream",
     "text": [
      "a 10\n",
      "b 1\n",
      "c 22\n"
     ]
    }
   ],
   "source": [
    "dic = {'a':10, 'b':1, 'c':22}\n",
    "dic.items()\n",
    "sorted(dic.items())\n",
    "for (k, v) in sorted(dic.items()):\n",
    "    print(k, v)"
   ]
  },
  {
   "cell_type": "code",
   "execution_count": 29,
   "id": "afc8036e",
   "metadata": {},
   "outputs": [
    {
     "name": "stdout",
     "output_type": "stream",
     "text": [
      "[(10, 'a'), (1, 'b'), (22, 'c')]\n",
      "[(22, 'c'), (10, 'a'), (1, 'b')]\n"
     ]
    }
   ],
   "source": [
    "tmp = list()\n",
    "for k, v in dic.items():\n",
    "    tmp.append((v, k))\n",
    "\n",
    "print(tmp)\n",
    "tmp = sorted(tmp, reverse=True)\n",
    "print(tmp)"
   ]
  },
  {
   "cell_type": "code",
   "execution_count": 35,
   "id": "68def270",
   "metadata": {},
   "outputs": [
    {
     "name": "stdout",
     "output_type": "stream",
     "text": [
      "the 226\n",
      "to 204\n",
      "a 165\n",
      "and 160\n",
      "you 130\n",
      "is 112\n",
      "of 103\n",
      "Python 85\n",
      "that 68\n",
      "in 66\n"
     ]
    }
   ],
   "source": [
    "fhand = open(\"intro.txt\")\n",
    "count = dict()\n",
    "for line in fhand:\n",
    "    words = line.split()\n",
    "    for word in words:\n",
    "        count[word] = count.get(word, 0) + 1\n",
    "\n",
    "lst = list()\n",
    "for k, v in count.items():\n",
    "    lst.append((v,k))\n",
    "    \n",
    "lst = sorted(lst, reverse=True)\n",
    "for v,k in lst[:10]:\n",
    "    print(k,v)"
   ]
  },
  {
   "cell_type": "code",
   "execution_count": 36,
   "id": "e8ae1344",
   "metadata": {},
   "outputs": [
    {
     "name": "stdout",
     "output_type": "stream",
     "text": [
      "[(1, 'b'), (10, 'a'), (22, 'c')]\n"
     ]
    }
   ],
   "source": [
    "print(sorted([ (v,k) for k,v in dic.items()]))"
   ]
  },
  {
   "cell_type": "markdown",
   "id": "425c2ff9",
   "metadata": {},
   "source": [
    "## Exercise 10"
   ]
  },
  {
   "cell_type": "code",
   "execution_count": 42,
   "id": "54e00c35",
   "metadata": {},
   "outputs": [
    {
     "name": "stdout",
     "output_type": "stream",
     "text": [
      "Enter File: intro.txt\n",
      "the 226\n",
      "to 204\n",
      "a 165\n",
      "and 160\n",
      "you 130\n"
     ]
    }
   ],
   "source": [
    "fname = input(\"Enter File: \")\n",
    "if len(fname) < 1 : fname = 'clown.txt'\n",
    "hand = open(fname)\n",
    "\n",
    "di = {}\n",
    "lst = []\n",
    "for lin in hand:\n",
    "    lin = lin.rstrip()\n",
    "    wds = lin.split()\n",
    "    for w in wds:\n",
    "        di[w] = di.get(w,0) + 1\n",
    "    \n",
    "for k, v in di.items():\n",
    "    lst.append((v,k))\n",
    "    \n",
    "lst = sorted(lst, reverse=True)\n",
    "for v,k in lst[:5]:\n",
    "    print(k,v)"
   ]
  },
  {
   "cell_type": "markdown",
   "id": "f1bea021",
   "metadata": {},
   "source": [
    "# RegEx"
   ]
  },
  {
   "cell_type": "code",
   "execution_count": null,
   "id": "28cd04bd",
   "metadata": {},
   "outputs": [],
   "source": [
    "import re\n"
   ]
  }
 ],
 "metadata": {
  "kernelspec": {
   "display_name": "Python 3",
   "language": "python",
   "name": "python3"
  },
  "language_info": {
   "codemirror_mode": {
    "name": "ipython",
    "version": 3
   },
   "file_extension": ".py",
   "mimetype": "text/x-python",
   "name": "python",
   "nbconvert_exporter": "python",
   "pygments_lexer": "ipython3",
   "version": "3.8.8"
  }
 },
 "nbformat": 4,
 "nbformat_minor": 5
}
